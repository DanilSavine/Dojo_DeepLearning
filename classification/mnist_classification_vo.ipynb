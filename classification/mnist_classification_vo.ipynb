{
  "cells": [
    {
      "cell_type": "markdown",
      "metadata": {
        "id": "CQw72yK8qkxU"
      },
      "source": [
        "# Classifying digits using a fully connected neural network\n",
        "\n",
        "In this practical exercice a fully connected neural network (also called multi-layer perceptron) is built using keras. It is then trained to classify image digits from the MNIST database. The MNIST database is a set of 28x28 grey-level, centered images of digits.\n",
        "\n",
        "Some baseline results:\n",
        "\n",
        "| Method                                                                      | Test error (%) |\n",
        "|-----------------------------------------------------------------------------|---------------:|\n",
        "| Linear classifier (LeCun et al. 1998)                                       |           12.0 |\n",
        "| K-nearest-neighbors, Euclidean (L2) (LeCun et al. 1998)                     |            5.0 |\n",
        "| 3-layer NN, 500-300, softmax, cross entropy, weight decay (Hinton, 2005)    |            1.5 |\n",
        "| Convolutional net LeNet-4 (LeCun et al. 1998)                               |            1.1 |\n",
        "| Virtual SVM deg-9 poly [data augmentation] (LeCun et al. 1998)              |            0.8 |\n",
        "| 6-layer NN with [data augmentation] (Ciresan et al. 2010)                   |           0.35 |\n",
        "| Deep conv. net, 7 layers [data augmentation] (Ciresan et al. IJCAI 2011)    |           0.35 |\n",
        "\n",
        "More results are available from: http://yann.lecun.com/exdb/mnist/\n",
        "\n",
        "Try to improve on some of these results, at least on those that do not use data augmentation or convolutional neural networks.\n",
        "\n",
        "Teaching assistant: romain.vo@mines-paristech.fr"
      ]
    },
    {
      "cell_type": "markdown",
      "metadata": {
        "id": "HJLLB22SJabj"
      },
      "source": [
        "## Package imports"
      ]
    },
    {
      "cell_type": "code",
      "execution_count": 1,
      "metadata": {
        "id": "YU9Ro5_eqkxZ"
      },
      "outputs": [],
      "source": [
        "import numpy as np\n",
        "import matplotlib.pyplot as plt\n",
        "import seaborn as sns\n",
        "\n",
        "from tensorflow.python.keras import backend as K\n",
        "from tensorflow.keras.datasets import mnist as db\n",
        "from tensorflow.keras.models import Sequential\n",
        "from tensorflow.keras.layers import Dense\n",
        "from tensorflow.keras.optimizers import SGD\n",
        "from tensorflow.keras.utils import to_categorical\n",
        "\n",
        "from sklearn.metrics import confusion_matrix\n",
        "\n",
        "# Magic used by the notebook to show figures inline\n",
        "%matplotlib inline\n",
        "# matplotlib default values\n",
        "plt.rcParams['figure.figsize'] = (10.0, 8.0)\n",
        "plt.rcParams['image.interpolation'] = 'nearest'\n",
        "plt.rcParams['image.cmap'] = 'gray'\n",
        "\n",
        "# auto-reloading packages\n",
        "%load_ext autoreload\n",
        "%autoreload 2\n"
      ]
    },
    {
      "cell_type": "markdown",
      "metadata": {
        "id": "uMlyKOoaz71H"
      },
      "source": [
        "## Data"
      ]
    },
    {
      "cell_type": "markdown",
      "metadata": {
        "id": "r1FEcBaqz71H"
      },
      "source": [
        "The MNIST dataset is a widely used baseline for classifcation, and deep learning methods specifically, and as such is directly available through the keras API. The data is split in training and test set."
      ]
    },
    {
      "cell_type": "code",
      "execution_count": 118,
      "metadata": {
        "id": "wMPzFsrFz71H"
      },
      "outputs": [],
      "source": [
        "# Load the data\n",
        "(x, y), (x_test_ori, y_test_ori) = db.load_data()"
      ]
    },
    {
      "cell_type": "markdown",
      "metadata": {
        "id": "Pm59Y1zZz71I"
      },
      "source": [
        "## First look\n",
        "\n",
        "Have a look at the data. You can run the next cell several times to have a look at different instances of the same class.\n",
        "\n",
        "**#i** here denotes the number of samples which belongs to the class **i**."
      ]
    },
    {
      "cell_type": "code",
      "execution_count": 119,
      "metadata": {
        "id": "MDnuf1EMz71I"
      },
      "outputs": [],
      "source": [
        "fig, ax = plt.subplots(nrows=2, ncols=5, figsize=(16,8))\n",
        "ax = ax.reshape(-1)\n",
        "\n",
        "for i in range(10):\n",
        "    class_mask = np.nonzero(y == i)[0]\n",
        "    index = np.random.choice(class_mask)\n",
        "    ax[i].imshow(x[index])\n",
        "    ax[i].axis('off')\n",
        "    ax[i].set_title(f\"Index: {index}, Class: {y[index]} \\n #{y[index]} = {class_mask.shape[0]}\")\n",
        "\n",
        "fig.tight_layout()"
      ]
    },
    {
      "cell_type": "markdown",
      "metadata": {
        "id": "GkMZFMI58vHi"
      },
      "source": [
        "### Data preparation\n",
        "\n",
        "<u>Splitting :</u> The training subset of the MNIST database contains 60000 images. We will split this set into an effective training set (90%) and a validation set (10%). This will allow us to improve our model without looking at the test set. As a rule of thumb the test should be evaluated very very few times, only when you think you have reach the end of your improvement procedure.\n",
        "\n",
        "<u>Normalization :</u> We need to normalize the data before feeding it to the neural network, this is done simply by dividing the pixel values by 255.\n",
        "\n",
        "<u>Formatting the input:</u> For the moment, the training data (the images) are stored in 2D arrays. Because we are using *Fully connected layers* (**FCL**), also called *Multi-Layer Perceptron* (**MLP**), we only need 1D vector as input. Thus we flatten the 2D arrays beforehand.\n",
        "- `x[idx].shape = (28,28)`  $\\rightarrow$  `x[idx].shape = (784)`\n",
        "\n",
        "<u>Formatting the output:</u> For the moment, the target is simply stored by assigning to each index of the `y` array, the corresponding digit value. Here our future **MLP** will compute an `output` tensor of 10 \"probabilities\" (between 0 and 1) for each image. Thus for an image of the digit `8` we would like `output[7]` to be equal to 1. To learn such a network we also need to format the `y` array into a relevant encoding. So we apply a *one-hot encoding* to each value stored in `y` :\n",
        "- `y[idx] = 8`  $\\rightarrow$  `y[idx] = [0, 0, 0, 0, 0, 0, 0, 1, 0]`"
      ]
    },
    {
      "cell_type": "code",
      "execution_count": 120,
      "metadata": {
        "colab": {
          "base_uri": "https://localhost:8080/"
        },
        "id": "X8RpHz6yqkxs",
        "outputId": "1447e412-df8c-467a-f840-d515724d4110"
      },
      "outputs": [
        {
          "output_type": "stream",
          "name": "stdout",
          "text": [
            "(54000, 784) x train samples\n",
            "(6000, 784) x val samples\n",
            "(10000, 784) x test samples\n",
            "(54000, 10) y train samples\n",
            "(6000, 10) y val samples\n",
            "(10000,) y test samples\n"
          ]
        }
      ],
      "source": [
        "# Data management\n",
        "val_nb = 6000  # number of validation samples\n",
        "nb_samples = x.shape[0]\n",
        "\n",
        "if val_nb > nb_samples:\n",
        "    raise ValueError(\"You need some samples to train your network!\")\n",
        "\n",
        "img_width, img_height = x.shape[1], x.shape[2]\n",
        "\n",
        "num_of_pixels = img_width * img_height\n",
        "\n",
        "# As we are using only fully connected layers, we need a vector as input\n",
        "x = x.reshape(nb_samples, num_of_pixels)\n",
        "x_test = x_test_ori.reshape(x_test_ori.shape[0], num_of_pixels)\n",
        "\n",
        "# Normalization\n",
        "x = x.astype('float32')\n",
        "x_test = x_test.astype('float32')\n",
        "x /= 255\n",
        "x_test /= 255\n",
        "\n",
        "x_val = x[:val_nb, ]\n",
        "x_train = x[val_nb:, ]\n",
        "y_val = y[:val_nb]\n",
        "y_train = y[val_nb:]\n",
        "\n",
        "# one-hot encoding of classes\n",
        "num_classes = max(y) + 1\n",
        "y_train = to_categorical(y_train, num_classes)\n",
        "y_val = to_categorical(y_val, num_classes)\n",
        "y_test = to_categorical(y_test_ori, num_classes)\n",
        "\n",
        "\n",
        "print(x_train.shape, 'x train samples')\n",
        "print(x_val.shape, 'x val samples')\n",
        "print(x_test.shape, 'x test samples')\n",
        "print(y_train.shape, 'y train samples')\n",
        "print(y_val.shape, 'y val samples')\n",
        "print(y_test_ori.shape, 'y test samples')"
      ]
    },
    {
      "cell_type": "markdown",
      "metadata": {
        "id": "MwtzNojFqkxy"
      },
      "source": [
        "## First model\n",
        "\n",
        "We will begin with a network containing a single layer. We use a `softmax` activation for our last and single layer in order to normalize the `output` tensor.\n"
      ]
    },
    {
      "cell_type": "code",
      "execution_count": 5,
      "metadata": {
        "colab": {
          "base_uri": "https://localhost:8080/"
        },
        "id": "PcuVHd7xqkxz",
        "outputId": "fa049cd4-35c8-4483-b1d9-76e0b924d17f"
      },
      "outputs": [
        {
          "output_type": "stream",
          "name": "stdout",
          "text": [
            "Model: \"sequential\"\n",
            "_________________________________________________________________\n",
            " Layer (type)                Output Shape              Param #   \n",
            "=================================================================\n",
            " dense (Dense)               (None, 10)                7850      \n",
            "                                                                 \n",
            "=================================================================\n",
            "Total params: 7850 (30.66 KB)\n",
            "Trainable params: 7850 (30.66 KB)\n",
            "Non-trainable params: 0 (0.00 Byte)\n",
            "_________________________________________________________________\n"
          ]
        }
      ],
      "source": [
        "# let define a first simple model without any hidden layers\n",
        "model = Sequential()\n",
        "model.add(Dense(num_classes, activation='softmax', input_shape=(x_train.shape[1],)))\n",
        "\n",
        "model.summary()"
      ]
    },
    {
      "cell_type": "markdown",
      "metadata": {
        "id": "VzQxdV8pqkx7"
      },
      "source": [
        "### Training\n",
        "\n",
        "The following section takes care of training.\n",
        "\n",
        "Firstly, the model has to be 'compiled'. This operations lets the user to choose the loss, the optimizer and the metrics, then configures the model for training.\n",
        "\n",
        "<u>Loss :</u> To train our model we choose a *categorical cross-entropy*, with $N$ the number of samples and $C$ the number of classes:\n",
        "- $L(y, \\hat{y}) = \\frac{1}{N} \\sum_{i=0}^N \\left( - \\sum_{c=1}^C y_{i,c} \\log(\\hat{y}_{i,c}) \\right)$  \n",
        "\n",
        "Implement a categorical cross-entropy using only `K.log`, `K.sum` , `K.mean`\n",
        "\n",
        "To check that your implement of `categorical_crossentropy` is correct, you should approximately have the same results when setting `loss='categorical_crossentropy'`, which uses the built-in implementation of keras.\n",
        "\n",
        "<u>Optimization :</u> Secondly, the 'fit' method runs the optimization. Training and validation data are specified here, as well as batch size and the number of epochs.\n"
      ]
    },
    {
      "cell_type": "code",
      "execution_count": 58,
      "metadata": {
        "id": "Ya91UWco4L-3"
      },
      "outputs": [],
      "source": [
        "learning_rate = 0.01\n",
        "\n",
        "def categorical_crossentropy(target, prediction):\n",
        "    \"\"\"\n",
        "    target : array of shape [batch_size, num_classes]\n",
        "    prediction : array of shape [batch_size, num_classes]\n",
        "    \"\"\"\n",
        "\n",
        "    ### TO BE IMPLEMENTED ###\n",
        "    # N = target.shape[0]\n",
        "    # cross_entropy = - K.sum(target * K.log(prediction), axis = 1)\n",
        "    # return K.sum(cross_entropy) / N\n",
        "\n",
        "    return K.mean(- K.sum(target * K.log(prediction), axis = 1) )\n",
        "    #########################\n",
        "\n",
        "\n",
        "model.compile(loss=categorical_crossentropy,\n",
        "              optimizer=SGD(learning_rate=learning_rate),\n",
        "              metrics=['accuracy'])\n",
        "\n",
        "# model.compile(loss='categorical_crossentropy',\n",
        "#               optimizer=SGD(learning_rate=learning_rate),\n",
        "#               metrics=['accuracy'])"
      ]
    },
    {
      "cell_type": "markdown",
      "metadata": {
        "id": "l989dszm4s81"
      },
      "source": [
        "Note that you can run the cell below several times. Training will restart from the point it stopped in the previous run. However variable *output* will only contain the history of the last run."
      ]
    },
    {
      "cell_type": "code",
      "execution_count": 59,
      "metadata": {
        "id": "fumoxp1Qz71J",
        "outputId": "ef61472a-9482-45ac-8eeb-724c501421d9",
        "colab": {
          "base_uri": "https://localhost:8080/"
        }
      },
      "outputs": [
        {
          "output_type": "stream",
          "name": "stdout",
          "text": [
            "Epoch 1/20\n",
            "422/422 [==============================] - 3s 4ms/step - loss: 0.0185 - accuracy: 0.9966 - val_loss: 0.0860 - val_accuracy: 0.9745\n",
            "Epoch 2/20\n",
            "422/422 [==============================] - 2s 4ms/step - loss: 0.0178 - accuracy: 0.9970 - val_loss: 0.0871 - val_accuracy: 0.9743\n",
            "Epoch 3/20\n",
            "422/422 [==============================] - 2s 4ms/step - loss: 0.0172 - accuracy: 0.9970 - val_loss: 0.0886 - val_accuracy: 0.9748\n",
            "Epoch 4/20\n",
            "422/422 [==============================] - 2s 4ms/step - loss: 0.0166 - accuracy: 0.9971 - val_loss: 0.0879 - val_accuracy: 0.9752\n",
            "Epoch 5/20\n",
            "422/422 [==============================] - 2s 4ms/step - loss: 0.0161 - accuracy: 0.9974 - val_loss: 0.0880 - val_accuracy: 0.9755\n",
            "Epoch 6/20\n",
            "422/422 [==============================] - 2s 4ms/step - loss: 0.0158 - accuracy: 0.9973 - val_loss: 0.0885 - val_accuracy: 0.9757\n",
            "Epoch 7/20\n",
            "422/422 [==============================] - 2s 6ms/step - loss: 0.0152 - accuracy: 0.9976 - val_loss: 0.0911 - val_accuracy: 0.9752\n",
            "Epoch 8/20\n",
            "422/422 [==============================] - 2s 4ms/step - loss: 0.0147 - accuracy: 0.9978 - val_loss: 0.0905 - val_accuracy: 0.9753\n",
            "Epoch 9/20\n",
            "422/422 [==============================] - 2s 4ms/step - loss: 0.0142 - accuracy: 0.9978 - val_loss: 0.0897 - val_accuracy: 0.9753\n",
            "Epoch 10/20\n",
            "422/422 [==============================] - 2s 4ms/step - loss: 0.0138 - accuracy: 0.9979 - val_loss: 0.0918 - val_accuracy: 0.9742\n",
            "Epoch 11/20\n",
            "422/422 [==============================] - 2s 4ms/step - loss: 0.0134 - accuracy: 0.9979 - val_loss: 0.0917 - val_accuracy: 0.9755\n",
            "Epoch 12/20\n",
            "422/422 [==============================] - 2s 4ms/step - loss: 0.0130 - accuracy: 0.9982 - val_loss: 0.0936 - val_accuracy: 0.9745\n",
            "Epoch 13/20\n",
            "422/422 [==============================] - 2s 4ms/step - loss: 0.0126 - accuracy: 0.9981 - val_loss: 0.0910 - val_accuracy: 0.9758\n",
            "Epoch 14/20\n",
            "422/422 [==============================] - 2s 6ms/step - loss: 0.0123 - accuracy: 0.9981 - val_loss: 0.0919 - val_accuracy: 0.9750\n",
            "Epoch 15/20\n",
            "422/422 [==============================] - 2s 4ms/step - loss: 0.0120 - accuracy: 0.9983 - val_loss: 0.0919 - val_accuracy: 0.9760\n",
            "Epoch 16/20\n",
            "422/422 [==============================] - 2s 4ms/step - loss: 0.0115 - accuracy: 0.9984 - val_loss: 0.0937 - val_accuracy: 0.9755\n",
            "Epoch 17/20\n",
            "422/422 [==============================] - 2s 4ms/step - loss: 0.0112 - accuracy: 0.9986 - val_loss: 0.0930 - val_accuracy: 0.9742\n",
            "Epoch 18/20\n",
            "422/422 [==============================] - 2s 4ms/step - loss: 0.0108 - accuracy: 0.9986 - val_loss: 0.0921 - val_accuracy: 0.9752\n",
            "Epoch 19/20\n",
            "422/422 [==============================] - 2s 4ms/step - loss: 0.0106 - accuracy: 0.9987 - val_loss: 0.0940 - val_accuracy: 0.9758\n",
            "Epoch 20/20\n",
            "422/422 [==============================] - 2s 5ms/step - loss: 0.0102 - accuracy: 0.9988 - val_loss: 0.0953 - val_accuracy: 0.9753\n"
          ]
        }
      ],
      "source": [
        "batch_size = 128\n",
        "epochs = 20\n",
        "output = model.fit(x_train, y_train,\n",
        "                   batch_size=batch_size,\n",
        "                   epochs=epochs,\n",
        "                   validation_data=(x_val, y_val))"
      ]
    },
    {
      "cell_type": "markdown",
      "metadata": {
        "id": "8O7Gu80gezI9"
      },
      "source": [
        "### Is training satisfactory?\n",
        "\n",
        "Looking at the evolution of training and validation accuracies, one can evaluate the quality of training."
      ]
    },
    {
      "cell_type": "code",
      "execution_count": 60,
      "metadata": {
        "colab": {
          "base_uri": "https://localhost:8080/"
        },
        "id": "aQVPe8UMrtNH",
        "outputId": "a392ed25-d990-46f8-c2b2-83253232c860"
      },
      "outputs": [
        {
          "output_type": "execute_result",
          "data": {
            "text/plain": [
              "<matplotlib.legend.Legend at 0x7ff9f2dbc6d0>"
            ]
          },
          "metadata": {},
          "execution_count": 60
        }
      ],
      "source": [
        "plt.plot(output.epoch, output.history['loss'], label='train')\n",
        "plt.plot(output.epoch, output.history['val_loss'], label='val')\n",
        "plt.title('Training and validation performance')\n",
        "plt.ylabel('loss')\n",
        "plt.xlabel('epoch')\n",
        "plt.grid()\n",
        "plt.legend()"
      ]
    },
    {
      "cell_type": "markdown",
      "metadata": {
        "id": "LSVAWdNc6RYk"
      },
      "source": [
        "### Questions\n",
        "\n",
        "\n",
        "\n",
        "*   Do you think learning could be improved? Why?\n",
        "\n",
        "We could have more epochs, as we haven't reached the asymptote yet.\n",
        "\n",
        "\n",
        "*   Is there overfitting? Why?\n",
        "\n",
        "No, because the val loss is below the train loss\n",
        "\n",
        "\n"
      ]
    },
    {
      "cell_type": "markdown",
      "metadata": {
        "id": "97QqiLS2qkyC"
      },
      "source": [
        "### Analysis of the weights\n",
        "\n",
        "With this simple model it is possible to have an intuition of what the neural network has learned looking at\n",
        "the matrix of the weights $W$.\n",
        "In fact $W\\in\\mathbb{R}^{784\\times 10}$, so for each class $i$ we can plot the weights corresponding to this class."
      ]
    },
    {
      "cell_type": "code",
      "execution_count": 61,
      "metadata": {
        "colab": {
          "base_uri": "https://localhost:8080/",
          "height": 1000
        },
        "id": "VhGcciPwqkyE",
        "outputId": "1446dc81-2adc-43dc-8990-ad71dfb814ff"
      },
      "outputs": [
        {
          "output_type": "display_data",
          "data": {
            "text/plain": [
              "<Figure size 640x480 with 1 Axes>"
            ],
            "image/png": "[encoded data removed]"
          },
          "metadata": {}
        },
        {
          "output_type": "display_data",
          "data": {
            "text/plain": [
              "<Figure size 640x480 with 1 Axes>"
            ],
            "image/png": "[encoded data removed]"
          },
          "metadata": {}
        },
        {
          "output_type": "display_data",
          "data": {
            "text/plain": [
              "<Figure size 1600x600 with 10 Axes>"
            ],
            "image/png": "[encoded data removed]"
          },
          "metadata": {}
        }
      ],
      "source": [
        "# plotting the weights\n",
        "W, b = model.layers[0].get_weights()\n",
        "vmin = W.min()\n",
        "vmax = W.max()\n",
        "f, ax = plt.subplots(2, 5, figsize=(16,6))\n",
        "for plt_row in range(2):\n",
        "    for plt_col in range(5):\n",
        "        ax[plt_row][plt_col].imshow(W[:,plt_row*5 + plt_col].reshape(img_width,img_height), vmin=vmin, vmax=vmax, cmap=plt.cm.bwr)\n",
        "        ax[plt_row][plt_col].axis('off')\n",
        "        ax[plt_row][plt_col].set_title(\"Weights for the class {}\".format(plt_row*5 + plt_col))\n",
        "plt.show()"
      ]
    },
    {
      "cell_type": "markdown",
      "metadata": {
        "id": "nkdMfRLPqkyM"
      },
      "source": [
        "## Improving performance by adding extra layers\n",
        "\n",
        "In order to improve the performances of our prediction it is possible to add hidden layers between the input layer and the output layer.\n",
        "\n",
        "Note that here we are restricted to dense layers. Do not use (yet) other types of layers."
      ]
    },
    {
      "cell_type": "code",
      "execution_count": 62,
      "metadata": {
        "colab": {
          "base_uri": "https://localhost:8080/"
        },
        "id": "Bi3_oPtnqkyO",
        "outputId": "cf276a08-f919-4544-a865-f046cb07dc4a"
      },
      "outputs": [
        {
          "output_type": "stream",
          "name": "stdout",
          "text": [
            "Model: \"sequential_4\"\n",
            "_________________________________________________________________\n",
            " Layer (type)                Output Shape              Param #   \n",
            "=================================================================\n",
            " dense_13 (Dense)            (None, 128)               100480    \n",
            "                                                                 \n",
            " dense_14 (Dense)            (None, 128)               16512     \n",
            "                                                                 \n",
            " dense_15 (Dense)            (None, 128)               16512     \n",
            "                                                                 \n",
            " dense_16 (Dense)            (None, 128)               16512     \n",
            "                                                                 \n",
            " last (Dense)                (None, 10)                1290      \n",
            "                                                                 \n",
            "=================================================================\n",
            "Total params: 151306 (591.04 KB)\n",
            "Trainable params: 151306 (591.04 KB)\n",
            "Non-trainable params: 0 (0.00 Byte)\n",
            "_________________________________________________________________\n"
          ]
        }
      ],
      "source": [
        "model = Sequential()\n",
        "model.add(Dense(128, activation='relu', input_shape=(x_train.shape[1],)))\n",
        "model.add(Dense(128, activation='relu'))\n",
        "model.add(Dense(128, activation='relu'))\n",
        "model.add(Dense(128, activation='relu'))\n",
        "model.add(Dense(num_classes, activation='softmax', name=\"last\"))\n",
        "\n",
        "model.summary()\n"
      ]
    },
    {
      "cell_type": "code",
      "execution_count": 63,
      "metadata": {
        "id": "64qVmdPAqkyT",
        "outputId": "85c9a730-38bd-4384-dec3-a5ab1ae12026",
        "colab": {
          "base_uri": "https://localhost:8080/"
        }
      },
      "outputs": [
        {
          "output_type": "stream",
          "name": "stderr",
          "text": [
            "WARNING:absl:`lr` is deprecated in Keras optimizer, please use `learning_rate` or use the legacy optimizer, e.g.,tf.keras.optimizers.legacy.SGD.\n"
          ]
        }
      ],
      "source": [
        "learning_rate = 0.01\n",
        "model.compile(loss='categorical_crossentropy',\n",
        "              optimizer=SGD(lr=learning_rate),\n",
        "              metrics=['accuracy'])"
      ]
    },
    {
      "cell_type": "code",
      "execution_count": 81,
      "metadata": {
        "colab": {
          "base_uri": "https://localhost:8080/",
          "height": 792
        },
        "id": "yFwW-zSF7Ryi",
        "outputId": "52565d4c-543a-4831-c6c0-8ae131fc22b8"
      },
      "outputs": [
        {
          "output_type": "stream",
          "name": "stdout",
          "text": [
            "Epoch 1/40\n",
            "844/844 [==============================] - 4s 4ms/step - loss: 0.0169 - accuracy: 0.9966 - val_loss: 0.0953 - val_accuracy: 0.9750\n",
            "Epoch 2/40\n",
            "844/844 [==============================] - 4s 5ms/step - loss: 0.0162 - accuracy: 0.9967 - val_loss: 0.0955 - val_accuracy: 0.9770\n",
            "Epoch 3/40\n",
            "844/844 [==============================] - 3s 4ms/step - loss: 0.0150 - accuracy: 0.9972 - val_loss: 0.0953 - val_accuracy: 0.9767\n",
            "Epoch 4/40\n",
            "844/844 [==============================] - 3s 4ms/step - loss: 0.0139 - accuracy: 0.9973 - val_loss: 0.0974 - val_accuracy: 0.9752\n",
            "Epoch 5/40\n",
            "844/844 [==============================] - 5s 6ms/step - loss: 0.0134 - accuracy: 0.9975 - val_loss: 0.0991 - val_accuracy: 0.9767\n",
            "Epoch 6/40\n",
            "844/844 [==============================] - 3s 4ms/step - loss: 0.0124 - accuracy: 0.9980 - val_loss: 0.0987 - val_accuracy: 0.9772\n",
            "Epoch 7/40\n",
            "844/844 [==============================] - 3s 4ms/step - loss: 0.0116 - accuracy: 0.9981 - val_loss: 0.0997 - val_accuracy: 0.9767\n",
            "Epoch 8/40\n",
            "844/844 [==============================] - 5s 6ms/step - loss: 0.0108 - accuracy: 0.9986 - val_loss: 0.0977 - val_accuracy: 0.9760\n",
            "Epoch 9/40\n",
            "844/844 [==============================] - 7s 9ms/step - loss: 0.0102 - accuracy: 0.9984 - val_loss: 0.1004 - val_accuracy: 0.9763\n",
            "Epoch 10/40\n",
            "844/844 [==============================] - 6s 8ms/step - loss: 0.0097 - accuracy: 0.9987 - val_loss: 0.1005 - val_accuracy: 0.9762\n",
            "Epoch 11/40\n",
            "147/844 [====>.........................] - ETA: 5s - loss: 0.0090 - accuracy: 0.9991"
          ]
        },
        {
          "output_type": "error",
          "ename": "KeyboardInterrupt",
          "evalue": "ignored",
          "traceback": [
            "\u001b[0;31m---------------------------------------------------------------------------\u001b[0m",
            "\u001b[0;31mKeyboardInterrupt\u001b[0m                         Traceback (most recent call last)",
            "\u001b[0;32m<ipython-input-81-26899df710b4>\u001b[0m in \u001b[0;36m<cell line: 3>\u001b[0;34m()\u001b[0m\n\u001b[1;32m      1\u001b[0m \u001b[0mbatch_size\u001b[0m \u001b[0;34m=\u001b[0m \u001b[0;36m64\u001b[0m\u001b[0;34m\u001b[0m\u001b[0;34m\u001b[0m\u001b[0m\n\u001b[1;32m      2\u001b[0m \u001b[0mepochs\u001b[0m \u001b[0;34m=\u001b[0m \u001b[0;36m40\u001b[0m\u001b[0;34m\u001b[0m\u001b[0;34m\u001b[0m\u001b[0m\n\u001b[0;32m----> 3\u001b[0;31m output = model.fit(x_train, y_train,\n\u001b[0m\u001b[1;32m      4\u001b[0m                    \u001b[0mbatch_size\u001b[0m\u001b[0;34m=\u001b[0m\u001b[0mbatch_size\u001b[0m\u001b[0;34m,\u001b[0m\u001b[0;34m\u001b[0m\u001b[0;34m\u001b[0m\u001b[0m\n\u001b[1;32m      5\u001b[0m                    \u001b[0mepochs\u001b[0m\u001b[0;34m=\u001b[0m\u001b[0mepochs\u001b[0m\u001b[0;34m,\u001b[0m\u001b[0;34m\u001b[0m\u001b[0;34m\u001b[0m\u001b[0m\n",
            "\u001b[0;32m/usr/local/lib/python3.10/dist-packages/keras/src/utils/traceback_utils.py\u001b[0m in \u001b[0;36merror_handler\u001b[0;34m(*args, **kwargs)\u001b[0m\n\u001b[1;32m     63\u001b[0m         \u001b[0mfiltered_tb\u001b[0m \u001b[0;34m=\u001b[0m \u001b[0;32mNone\u001b[0m\u001b[0;34m\u001b[0m\u001b[0;34m\u001b[0m\u001b[0m\n\u001b[1;32m     64\u001b[0m         \u001b[0;32mtry\u001b[0m\u001b[0;34m:\u001b[0m\u001b[0;34m\u001b[0m\u001b[0;34m\u001b[0m\u001b[0m\n\u001b[0;32m---> 65\u001b[0;31m             \u001b[0;32mreturn\u001b[0m \u001b[0mfn\u001b[0m\u001b[0;34m(\u001b[0m\u001b[0;34m*\u001b[0m\u001b[0margs\u001b[0m\u001b[0;34m,\u001b[0m \u001b[0;34m**\u001b[0m\u001b[0mkwargs\u001b[0m\u001b[0;34m)\u001b[0m\u001b[0;34m\u001b[0m\u001b[0;34m\u001b[0m\u001b[0m\n\u001b[0m\u001b[1;32m     66\u001b[0m         \u001b[0;32mexcept\u001b[0m \u001b[0mException\u001b[0m \u001b[0;32mas\u001b[0m \u001b[0me\u001b[0m\u001b[0;34m:\u001b[0m\u001b[0;34m\u001b[0m\u001b[0;34m\u001b[0m\u001b[0m\n\u001b[1;32m     67\u001b[0m             \u001b[0mfiltered_tb\u001b[0m \u001b[0;34m=\u001b[0m \u001b[0m_process_traceback_frames\u001b[0m\u001b[0;34m(\u001b[0m\u001b[0me\u001b[0m\u001b[0;34m.\u001b[0m\u001b[0m__traceback__\u001b[0m\u001b[0;34m)\u001b[0m\u001b[0;34m\u001b[0m\u001b[0;34m\u001b[0m\u001b[0m\n",
            "\u001b[0;32m/usr/local/lib/python3.10/dist-packages/keras/src/engine/training.py\u001b[0m in \u001b[0;36mfit\u001b[0;34m(self, x, y, batch_size, epochs, verbose, callbacks, validation_split, validation_data, shuffle, class_weight, sample_weight, initial_epoch, steps_per_epoch, validation_steps, validation_batch_size, validation_freq, max_queue_size, workers, use_multiprocessing)\u001b[0m\n\u001b[1;32m   1740\u001b[0m                         ):\n\u001b[1;32m   1741\u001b[0m                             \u001b[0mcallbacks\u001b[0m\u001b[0;34m.\u001b[0m\u001b[0mon_train_batch_begin\u001b[0m\u001b[0;34m(\u001b[0m\u001b[0mstep\u001b[0m\u001b[0;34m)\u001b[0m\u001b[0;34m\u001b[0m\u001b[0;34m\u001b[0m\u001b[0m\n\u001b[0;32m-> 1742\u001b[0;31m                             \u001b[0mtmp_logs\u001b[0m \u001b[0;34m=\u001b[0m \u001b[0mself\u001b[0m\u001b[0;34m.\u001b[0m\u001b[0mtrain_function\u001b[0m\u001b[0;34m(\u001b[0m\u001b[0miterator\u001b[0m\u001b[0;34m)\u001b[0m\u001b[0;34m\u001b[0m\u001b[0;34m\u001b[0m\u001b[0m\n\u001b[0m\u001b[1;32m   1743\u001b[0m                             \u001b[0;32mif\u001b[0m \u001b[0mdata_handler\u001b[0m\u001b[0;34m.\u001b[0m\u001b[0mshould_sync\u001b[0m\u001b[0;34m:\u001b[0m\u001b[0;34m\u001b[0m\u001b[0;34m\u001b[0m\u001b[0m\n\u001b[1;32m   1744\u001b[0m                                 \u001b[0mcontext\u001b[0m\u001b[0;34m.\u001b[0m\u001b[0masync_wait\u001b[0m\u001b[0;34m(\u001b[0m\u001b[0;34m)\u001b[0m\u001b[0;34m\u001b[0m\u001b[0;34m\u001b[0m\u001b[0m\n",
            "\u001b[0;32m/usr/local/lib/python3.10/dist-packages/tensorflow/python/util/traceback_utils.py\u001b[0m in \u001b[0;36merror_handler\u001b[0;34m(*args, **kwargs)\u001b[0m\n\u001b[1;32m    148\u001b[0m     \u001b[0mfiltered_tb\u001b[0m \u001b[0;34m=\u001b[0m \u001b[0;32mNone\u001b[0m\u001b[0;34m\u001b[0m\u001b[0;34m\u001b[0m\u001b[0m\n\u001b[1;32m    149\u001b[0m     \u001b[0;32mtry\u001b[0m\u001b[0;34m:\u001b[0m\u001b[0;34m\u001b[0m\u001b[0;34m\u001b[0m\u001b[0m\n\u001b[0;32m--> 150\u001b[0;31m       \u001b[0;32mreturn\u001b[0m \u001b[0mfn\u001b[0m\u001b[0;34m(\u001b[0m\u001b[0;34m*\u001b[0m\u001b[0margs\u001b[0m\u001b[0;34m,\u001b[0m \u001b[0;34m**\u001b[0m\u001b[0mkwargs\u001b[0m\u001b[0;34m)\u001b[0m\u001b[0;34m\u001b[0m\u001b[0;34m\u001b[0m\u001b[0m\n\u001b[0m\u001b[1;32m    151\u001b[0m     \u001b[0;32mexcept\u001b[0m \u001b[0mException\u001b[0m \u001b[0;32mas\u001b[0m \u001b[0me\u001b[0m\u001b[0;34m:\u001b[0m\u001b[0;34m\u001b[0m\u001b[0;34m\u001b[0m\u001b[0m\n\u001b[1;32m    152\u001b[0m       \u001b[0mfiltered_tb\u001b[0m \u001b[0;34m=\u001b[0m \u001b[0m_process_traceback_frames\u001b[0m\u001b[0;34m(\u001b[0m\u001b[0me\u001b[0m\u001b[0;34m.\u001b[0m\u001b[0m__traceback__\u001b[0m\u001b[0;34m)\u001b[0m\u001b[0;34m\u001b[0m\u001b[0;34m\u001b[0m\u001b[0m\n",
            "\u001b[0;32m/usr/local/lib/python3.10/dist-packages/tensorflow/python/eager/polymorphic_function/polymorphic_function.py\u001b[0m in \u001b[0;36m__call__\u001b[0;34m(self, *args, **kwds)\u001b[0m\n\u001b[1;32m    823\u001b[0m \u001b[0;34m\u001b[0m\u001b[0m\n\u001b[1;32m    824\u001b[0m       \u001b[0;32mwith\u001b[0m \u001b[0mOptionalXlaContext\u001b[0m\u001b[0;34m(\u001b[0m\u001b[0mself\u001b[0m\u001b[0;34m.\u001b[0m\u001b[0m_jit_compile\u001b[0m\u001b[0;34m)\u001b[0m\u001b[0;34m:\u001b[0m\u001b[0;34m\u001b[0m\u001b[0;34m\u001b[0m\u001b[0m\n\u001b[0;32m--> 825\u001b[0;31m         \u001b[0mresult\u001b[0m \u001b[0;34m=\u001b[0m \u001b[0mself\u001b[0m\u001b[0;34m.\u001b[0m\u001b[0m_call\u001b[0m\u001b[0;34m(\u001b[0m\u001b[0;34m*\u001b[0m\u001b[0margs\u001b[0m\u001b[0;34m,\u001b[0m \u001b[0;34m**\u001b[0m\u001b[0mkwds\u001b[0m\u001b[0;34m)\u001b[0m\u001b[0;34m\u001b[0m\u001b[0;34m\u001b[0m\u001b[0m\n\u001b[0m\u001b[1;32m    826\u001b[0m \u001b[0;34m\u001b[0m\u001b[0m\n\u001b[1;32m    827\u001b[0m       \u001b[0mnew_tracing_count\u001b[0m \u001b[0;34m=\u001b[0m \u001b[0mself\u001b[0m\u001b[0;34m.\u001b[0m\u001b[0mexperimental_get_tracing_count\u001b[0m\u001b[0;34m(\u001b[0m\u001b[0;34m)\u001b[0m\u001b[0;34m\u001b[0m\u001b[0;34m\u001b[0m\u001b[0m\n",
            "\u001b[0;32m/usr/local/lib/python3.10/dist-packages/tensorflow/python/eager/polymorphic_function/polymorphic_function.py\u001b[0m in \u001b[0;36m_call\u001b[0;34m(self, *args, **kwds)\u001b[0m\n\u001b[1;32m    855\u001b[0m       \u001b[0;31m# In this case we have created variables on the first call, so we run the\u001b[0m\u001b[0;34m\u001b[0m\u001b[0;34m\u001b[0m\u001b[0m\n\u001b[1;32m    856\u001b[0m       \u001b[0;31m# defunned version which is guaranteed to never create variables.\u001b[0m\u001b[0;34m\u001b[0m\u001b[0;34m\u001b[0m\u001b[0m\n\u001b[0;32m--> 857\u001b[0;31m       \u001b[0;32mreturn\u001b[0m \u001b[0mself\u001b[0m\u001b[0;34m.\u001b[0m\u001b[0m_no_variable_creation_fn\u001b[0m\u001b[0;34m(\u001b[0m\u001b[0;34m*\u001b[0m\u001b[0margs\u001b[0m\u001b[0;34m,\u001b[0m \u001b[0;34m**\u001b[0m\u001b[0mkwds\u001b[0m\u001b[0;34m)\u001b[0m  \u001b[0;31m# pylint: disable=not-callable\u001b[0m\u001b[0;34m\u001b[0m\u001b[0;34m\u001b[0m\u001b[0m\n\u001b[0m\u001b[1;32m    858\u001b[0m     \u001b[0;32melif\u001b[0m \u001b[0mself\u001b[0m\u001b[0;34m.\u001b[0m\u001b[0m_variable_creation_fn\u001b[0m \u001b[0;32mis\u001b[0m \u001b[0;32mnot\u001b[0m \u001b[0;32mNone\u001b[0m\u001b[0;34m:\u001b[0m\u001b[0;34m\u001b[0m\u001b[0;34m\u001b[0m\u001b[0m\n\u001b[1;32m    859\u001b[0m       \u001b[0;31m# Release the lock early so that multiple threads can perform the call\u001b[0m\u001b[0;34m\u001b[0m\u001b[0;34m\u001b[0m\u001b[0m\n",
            "\u001b[0;32m/usr/local/lib/python3.10/dist-packages/tensorflow/python/eager/polymorphic_function/tracing_compiler.py\u001b[0m in \u001b[0;36m__call__\u001b[0;34m(self, *args, **kwargs)\u001b[0m\n\u001b[1;32m    146\u001b[0m       (concrete_function,\n\u001b[1;32m    147\u001b[0m        filtered_flat_args) = self._maybe_define_function(args, kwargs)\n\u001b[0;32m--> 148\u001b[0;31m     return concrete_function._call_flat(\n\u001b[0m\u001b[1;32m    149\u001b[0m         filtered_flat_args, captured_inputs=concrete_function.captured_inputs)  # pylint: disable=protected-access\n\u001b[1;32m    150\u001b[0m \u001b[0;34m\u001b[0m\u001b[0m\n",
            "\u001b[0;32m/usr/local/lib/python3.10/dist-packages/tensorflow/python/eager/polymorphic_function/monomorphic_function.py\u001b[0m in \u001b[0;36m_call_flat\u001b[0;34m(self, args, captured_inputs)\u001b[0m\n\u001b[1;32m   1347\u001b[0m         and executing_eagerly):\n\u001b[1;32m   1348\u001b[0m       \u001b[0;31m# No tape is watching; skip to running the function.\u001b[0m\u001b[0;34m\u001b[0m\u001b[0;34m\u001b[0m\u001b[0m\n\u001b[0;32m-> 1349\u001b[0;31m       \u001b[0;32mreturn\u001b[0m \u001b[0mself\u001b[0m\u001b[0;34m.\u001b[0m\u001b[0m_build_call_outputs\u001b[0m\u001b[0;34m(\u001b[0m\u001b[0mself\u001b[0m\u001b[0;34m.\u001b[0m\u001b[0m_inference_function\u001b[0m\u001b[0;34m(\u001b[0m\u001b[0;34m*\u001b[0m\u001b[0margs\u001b[0m\u001b[0;34m)\u001b[0m\u001b[0;34m)\u001b[0m\u001b[0;34m\u001b[0m\u001b[0;34m\u001b[0m\u001b[0m\n\u001b[0m\u001b[1;32m   1350\u001b[0m     forward_backward = self._select_forward_and_backward_functions(\n\u001b[1;32m   1351\u001b[0m         \u001b[0margs\u001b[0m\u001b[0;34m,\u001b[0m\u001b[0;34m\u001b[0m\u001b[0;34m\u001b[0m\u001b[0m\n",
            "\u001b[0;32m/usr/local/lib/python3.10/dist-packages/tensorflow/python/eager/polymorphic_function/atomic_function.py\u001b[0m in \u001b[0;36m__call__\u001b[0;34m(self, *args)\u001b[0m\n\u001b[1;32m    194\u001b[0m         \u001b[0;32mwith\u001b[0m \u001b[0mrecord\u001b[0m\u001b[0;34m.\u001b[0m\u001b[0mstop_recording\u001b[0m\u001b[0;34m(\u001b[0m\u001b[0;34m)\u001b[0m\u001b[0;34m:\u001b[0m\u001b[0;34m\u001b[0m\u001b[0;34m\u001b[0m\u001b[0m\n\u001b[1;32m    195\u001b[0m           \u001b[0;32mif\u001b[0m \u001b[0mself\u001b[0m\u001b[0;34m.\u001b[0m\u001b[0m_bound_context\u001b[0m\u001b[0;34m.\u001b[0m\u001b[0mexecuting_eagerly\u001b[0m\u001b[0;34m(\u001b[0m\u001b[0;34m)\u001b[0m\u001b[0;34m:\u001b[0m\u001b[0;34m\u001b[0m\u001b[0;34m\u001b[0m\u001b[0m\n\u001b[0;32m--> 196\u001b[0;31m             outputs = self._bound_context.call_function(\n\u001b[0m\u001b[1;32m    197\u001b[0m                 \u001b[0mself\u001b[0m\u001b[0;34m.\u001b[0m\u001b[0mname\u001b[0m\u001b[0;34m,\u001b[0m\u001b[0;34m\u001b[0m\u001b[0;34m\u001b[0m\u001b[0m\n\u001b[1;32m    198\u001b[0m                 \u001b[0mlist\u001b[0m\u001b[0;34m(\u001b[0m\u001b[0margs\u001b[0m\u001b[0;34m)\u001b[0m\u001b[0;34m,\u001b[0m\u001b[0;34m\u001b[0m\u001b[0;34m\u001b[0m\u001b[0m\n",
            "\u001b[0;32m/usr/local/lib/python3.10/dist-packages/tensorflow/python/eager/context.py\u001b[0m in \u001b[0;36mcall_function\u001b[0;34m(self, name, tensor_inputs, num_outputs)\u001b[0m\n\u001b[1;32m   1455\u001b[0m     \u001b[0mcancellation_context\u001b[0m \u001b[0;34m=\u001b[0m \u001b[0mcancellation\u001b[0m\u001b[0;34m.\u001b[0m\u001b[0mcontext\u001b[0m\u001b[0;34m(\u001b[0m\u001b[0;34m)\u001b[0m\u001b[0;34m\u001b[0m\u001b[0;34m\u001b[0m\u001b[0m\n\u001b[1;32m   1456\u001b[0m     \u001b[0;32mif\u001b[0m \u001b[0mcancellation_context\u001b[0m \u001b[0;32mis\u001b[0m \u001b[0;32mNone\u001b[0m\u001b[0;34m:\u001b[0m\u001b[0;34m\u001b[0m\u001b[0;34m\u001b[0m\u001b[0m\n\u001b[0;32m-> 1457\u001b[0;31m       outputs = execute.execute(\n\u001b[0m\u001b[1;32m   1458\u001b[0m           \u001b[0mname\u001b[0m\u001b[0;34m.\u001b[0m\u001b[0mdecode\u001b[0m\u001b[0;34m(\u001b[0m\u001b[0;34m\"utf-8\"\u001b[0m\u001b[0;34m)\u001b[0m\u001b[0;34m,\u001b[0m\u001b[0;34m\u001b[0m\u001b[0;34m\u001b[0m\u001b[0m\n\u001b[1;32m   1459\u001b[0m           \u001b[0mnum_outputs\u001b[0m\u001b[0;34m=\u001b[0m\u001b[0mnum_outputs\u001b[0m\u001b[0;34m,\u001b[0m\u001b[0;34m\u001b[0m\u001b[0;34m\u001b[0m\u001b[0m\n",
            "\u001b[0;32m/usr/local/lib/python3.10/dist-packages/tensorflow/python/eager/execute.py\u001b[0m in \u001b[0;36mquick_execute\u001b[0;34m(op_name, num_outputs, inputs, attrs, ctx, name)\u001b[0m\n\u001b[1;32m     51\u001b[0m   \u001b[0;32mtry\u001b[0m\u001b[0;34m:\u001b[0m\u001b[0;34m\u001b[0m\u001b[0;34m\u001b[0m\u001b[0m\n\u001b[1;32m     52\u001b[0m     \u001b[0mctx\u001b[0m\u001b[0;34m.\u001b[0m\u001b[0mensure_initialized\u001b[0m\u001b[0;34m(\u001b[0m\u001b[0;34m)\u001b[0m\u001b[0;34m\u001b[0m\u001b[0;34m\u001b[0m\u001b[0m\n\u001b[0;32m---> 53\u001b[0;31m     tensors = pywrap_tfe.TFE_Py_Execute(ctx._handle, device_name, op_name,\n\u001b[0m\u001b[1;32m     54\u001b[0m                                         inputs, attrs, num_outputs)\n\u001b[1;32m     55\u001b[0m   \u001b[0;32mexcept\u001b[0m \u001b[0mcore\u001b[0m\u001b[0;34m.\u001b[0m\u001b[0m_NotOkStatusException\u001b[0m \u001b[0;32mas\u001b[0m \u001b[0me\u001b[0m\u001b[0;34m:\u001b[0m\u001b[0;34m\u001b[0m\u001b[0;34m\u001b[0m\u001b[0m\n",
            "\u001b[0;31mKeyboardInterrupt\u001b[0m: "
          ]
        }
      ],
      "source": [
        "batch_size = 64\n",
        "epochs = 40\n",
        "output = model.fit(x_train, y_train,\n",
        "                   batch_size=batch_size,\n",
        "                   epochs=epochs,\n",
        "                   validation_data=(x_val, y_val),\n",
        ")"
      ]
    },
    {
      "cell_type": "markdown",
      "metadata": {
        "id": "JU_eMV9rqkyX"
      },
      "source": [
        "### Analysis of the results\n",
        "\n",
        "\n"
      ]
    },
    {
      "cell_type": "code",
      "execution_count": 65,
      "metadata": {
        "colab": {
          "base_uri": "https://localhost:8080/",
          "height": 472
        },
        "id": "K0CKtpx_qkyZ",
        "outputId": "77ddb6c7-773f-46ff-d538-9e0f28abd7d7"
      },
      "outputs": [
        {
          "output_type": "display_data",
          "data": {
            "text/plain": [
              "<Figure size 640x480 with 1 Axes>"
            ],
            "image/png": "[encoded data removed]"
          },
          "metadata": {}
        }
      ],
      "source": [
        "plt.plot(output.epoch, output.history['loss'], label='train')\n",
        "plt.plot(output.epoch, output.history['val_loss'], label='val')\n",
        "plt.title('Training and validation performance')\n",
        "plt.ylabel('loss')\n",
        "plt.xlabel('epoch')\n",
        "plt.legend()\n",
        "plt.grid()\n",
        "plt.show()\n",
        "# plt.ylim(0.2, 0.8)"
      ]
    },
    {
      "cell_type": "markdown",
      "metadata": {
        "id": "mrggUv3Uf8fM"
      },
      "source": [
        "Is there overfitting? How can it be reduced?\n",
        "\n",
        "Yes there is overfitting as error of val is above the error for test.\n",
        "We could do batch gradient descent instead of stochastic to avoid overfitting, and reduce the size of the network."
      ]
    },
    {
      "cell_type": "markdown",
      "metadata": {
        "id": "ojS_0h3LlWUZ"
      },
      "source": [
        "### Qualitative error analysis\n",
        "\n",
        "Let us have a look at some images that have been incorrectly classified.\n",
        "\n",
        "<u>Inference </u>: We call the `predict` method on our model and feed the `x_test` array to obtain the probabilities for each test sample. The `y_predict_proba` is a *one-hot encoded* array so we compute the index of the maximum predicted probability to extract the label of the predicted digit"
      ]
    },
    {
      "cell_type": "code",
      "execution_count": 66,
      "metadata": {
        "id": "-NNfeaP8z71K",
        "outputId": "d3e574b5-9887-41a6-8fe1-a99515dbbe96",
        "colab": {
          "base_uri": "https://localhost:8080/"
        }
      },
      "outputs": [
        {
          "output_type": "stream",
          "name": "stdout",
          "text": [
            "313/313 [==============================] - 1s 2ms/step\n"
          ]
        }
      ],
      "source": [
        "y_predict_proba = model.predict(x_test)\n",
        "y_predict = np.argmax(y_predict_proba, 1)"
      ]
    },
    {
      "cell_type": "markdown",
      "metadata": {
        "id": "qTD1Z0B5z71K"
      },
      "source": [
        "You can run the following cell several times to inspect different errors, or manually change the `index` variable"
      ]
    },
    {
      "cell_type": "code",
      "execution_count": 79,
      "metadata": {
        "colab": {
          "base_uri": "https://localhost:8080/",
          "height": 537
        },
        "id": "78GfuYj9qkyf",
        "outputId": "6d4ffc76-66d6-47d7-d58e-b8ef84de6f44"
      },
      "outputs": [
        {
          "output_type": "stream",
          "name": "stdout",
          "text": [
            "Correct label is: 6\n",
            "Predicted label is: 4 with a \"probability\" of 99.74%\n",
            "Label 6 was predicted with a \"probability\" of 0.08%\n",
            "\n",
            "Probabilities: [1.9400442e-05 7.3333858e-08 5.2941189e-04 5.2926094e-08 9.9744958e-01\n",
            " 4.4075637e-08 8.2420552e-04 1.1625595e-03 2.3337493e-06 1.2304876e-05]\n"
          ]
        },
        {
          "output_type": "display_data",
          "data": {
            "text/plain": [
              "<Figure size 640x480 with 1 Axes>"
            ],
            "image/png": "[encoded data removed]"
          },
          "metadata": {}
        }
      ],
      "source": [
        "err_mask = y_test_ori != y_predict\n",
        "ok_mask = y_test_ori == y_predict\n",
        "\n",
        "x_test_errors = x_test_ori[err_mask]\n",
        "y_test_errors = y_test_ori[err_mask]\n",
        "y_predict_errors = y_predict[err_mask]\n",
        "y_predict_proba_errors = y_predict_proba[err_mask]\n",
        "y_predict_proba_ok = y_predict_proba[ok_mask]\n",
        "\n",
        "index = np.random.choice(range(y_test_errors.shape[0]))\n",
        "print(f\"Correct label is: { y_test_errors[index]}\")\n",
        "print(f\"Predicted label is: {y_predict_errors[index]} with a \\\"probability\\\" of {y_predict_proba_errors[index, y_predict_errors[index]]:.2%}\")\n",
        "print(f\"Label {y_test_errors[index]} was predicted with a \\\"probability\\\" of {y_predict_proba_errors[index, y_test_errors[index]]:.2%}\", end='\\n\\n')\n",
        "print(f\"Probabilities: {y_predict_proba_errors[index]}\")\n",
        "plt.imshow(x_test_errors[index], cmap=\"gray\")\n",
        "plt.show()"
      ]
    },
    {
      "cell_type": "markdown",
      "metadata": {
        "id": "stWaNMxBz71K"
      },
      "source": [
        "We can plot the histogram of the probabilities of the predicted classes, given that the predictions are correct or incorrect. This should give us some intuitions on how the network \"behaves\" during inference"
      ]
    },
    {
      "cell_type": "code",
      "execution_count": 83,
      "metadata": {
        "id": "lJhlrr8lz71K",
        "outputId": "1cf0f82f-3446-452f-e6db-81011a3023d6",
        "colab": {
          "base_uri": "https://localhost:8080/",
          "height": 480
        }
      },
      "outputs": [
        {
          "output_type": "display_data",
          "data": {
            "text/plain": [
              "<Figure size 640x480 with 1 Axes>"
            ],
            "image/png": "[encoded data removed]"
          },
          "metadata": {}
        }
      ],
      "source": [
        "# p.max() keeps the highest probability among the 10 outputs.\n",
        "\n",
        "max_predictions_correct = np.max(y_predict_proba[ok_mask], 1)\n",
        "max_predictions_incorrect = np.max(y_predict_proba[err_mask], 1)\n",
        "\n",
        "# np.random.shuffle shuffles the values of the array\n",
        "np.random.shuffle(max_predictions_correct)\n",
        "np.random.shuffle(max_predictions_incorrect)\n",
        "\n",
        "y_predict_proba_errors.shape\n",
        "\n",
        "histo_bins = 20\n",
        "sns.set_theme(style=\"darkgrid\")\n",
        "fig, ax = plt.subplots()\n",
        "\n",
        "ax.hist(max_predictions_correct[0:100], density=False,\n",
        "         bins=histo_bins,\n",
        "         color=\"blue\",\n",
        "         alpha=0.4,\n",
        "         label='Correct predictions')\n",
        "ax.hist(max_predictions_incorrect[0:100],density=False,\n",
        "         bins=histo_bins,\n",
        "         color=\"orange\",\n",
        "         alpha=0.4,\n",
        "         label='Incorrect predictions')\n",
        "\n",
        "ax.set_title('Max probability histograms')\n",
        "ax.set_xlabel(\"Max probability\")\n",
        "ax.legend()\n",
        "\n",
        "plt.show()\n",
        "sns.reset_defaults()\n"
      ]
    },
    {
      "cell_type": "markdown",
      "metadata": {
        "id": "oL6MYZ7Iz71L"
      },
      "source": [
        "Is the network 'confident' when making errors?\n",
        "\n",
        "No when there are errors, the model is not \"confident\"\n",
        "\n",
        "What do you think about these errors?\n",
        "\n",
        "Maybe the model has overfitted and has trouble with out of distribution examples. Maybe too conservative?\n",
        "We could rotate?\n"
      ]
    },
    {
      "cell_type": "markdown",
      "metadata": {
        "id": "eV1BAxhTz71L"
      },
      "source": [
        "### Quantitative error analysis"
      ]
    },
    {
      "cell_type": "markdown",
      "metadata": {
        "id": "NyYdE9Bbz71L"
      },
      "source": [
        "We can measure the uncertainty of our model by measuring the entropy of its predictions. In [information theory](https://en.wikipedia.org/wiki/Entropy_(information_theory)) the entropy of a random variable is given by $H(X) = - \\sum_{x \\in \\mathcal{X}} p(x) \\log\\left(p(x)\\right)$. In our case we can compute the entropy of a prediction using:\n",
        "- $H(\\hat{y}) = - \\sum_{c=1}^C \\hat{y}_{c} \\log(\\hat{y}_{c})$"
      ]
    },
    {
      "cell_type": "code",
      "execution_count": 84,
      "metadata": {
        "id": "nOC5As1Dz71L"
      },
      "outputs": [],
      "source": [
        "def entropy(predictions):\n",
        "    return - np.sum(predictions * np.log(predictions), axis=1)"
      ]
    },
    {
      "cell_type": "markdown",
      "metadata": {
        "id": "ytELZtWYz71L"
      },
      "source": [
        "We will plot the smoothed histogram (Kernel Density Estimation) of our predictions' entropy, given that the predictions are correct or incorrect."
      ]
    },
    {
      "cell_type": "code",
      "execution_count": 85,
      "metadata": {
        "id": "QvCQug7rz71Q",
        "outputId": "63a291b8-387b-4aaa-e02c-f7b26a4b8f5a",
        "colab": {
          "base_uri": "https://localhost:8080/",
          "height": 458
        }
      },
      "outputs": [
        {
          "output_type": "display_data",
          "data": {
            "text/plain": [
              "<Figure size 640x480 with 1 Axes>"
            ],
            "image/png": "[encoded data removed]"
          },
          "metadata": {}
        }
      ],
      "source": [
        "import seaborn as sns\n",
        "sns.set_theme()\n",
        "\n",
        "entropies = entropy(y_predict_proba)\n",
        "\n",
        "fig, ax = plt.subplots()\n",
        "sns.kdeplot(entropies[ok_mask], label='Correct predictions', ax=ax, fill=True)\n",
        "sns.kdeplot(entropies[err_mask], label='Incorrect predictions',ax=ax, fill=True)\n",
        "ax.set_xlim(0, 1.5)\n",
        "ax.set_xlabel('Entropy')\n",
        "\n",
        "ax.legend()\n",
        "\n",
        "plt.show()\n",
        "sns.reset_defaults()\n",
        "\n"
      ]
    },
    {
      "cell_type": "markdown",
      "metadata": {
        "id": "T6-7x8E0z71Q"
      },
      "source": [
        "From this plot what can you say about our model in terms of uncertainty ? Why ?\n",
        "\n",
        "Incorrect predictions have high entropy.\n",
        "\n",
        "Very quickly, What kind of prediction would maximize the entropy ?\n",
        "\n",
        "**Answer**: y = [0.1, 0.1, 0.1, 0.1]\n",
        "\n",
        "Based on the analysis of the entropy, design a procedure to estimate beforehand if a prediction will be wrong or not. What are the limits of your procedure ?\n",
        "\n",
        "You could use the following objects: `entropies, err_mask, ok_mask`\n",
        "\n",
        "we've caought 92% with the entropy test\n",
        "Different entropy thresholds might appears"
      ]
    },
    {
      "cell_type": "code",
      "execution_count": 112,
      "metadata": {
        "id": "o3gINBAcz71Q",
        "outputId": "a72b2df2-49c5-4962-c494-31df6ce57c71",
        "colab": {
          "base_uri": "https://localhost:8080/"
        }
      },
      "outputs": [
        {
          "output_type": "stream",
          "name": "stdout",
          "text": [
            "85% of errors_caught_with_mask\n",
            "6% of correct_preds_caught_with_mask\n"
          ]
        }
      ],
      "source": [
        "### When entropy is above 0.1, this would be wrong.\n",
        "\n",
        "threshold = 0.1\n",
        "\n",
        "pred_error_mask = entropies > threshold\n",
        "errors_caught_with_mask = np.sum(pred_error_mask*err_mask) / np.sum(err_mask) *100\n",
        "print(\"%d%% of errors_caught_with_mask\" % errors_caught_with_mask)\n",
        "\n",
        "correct_preds_caught_with_mask = np.sum(pred_error_mask*ok_mask) / np.sum(ok_mask)*100\n",
        "print(\"%d%% of correct_preds_caught_with_mask\" % correct_preds_caught_with_mask)\n"
      ]
    },
    {
      "cell_type": "markdown",
      "metadata": {
        "id": "CxWL0WV7cNfH"
      },
      "source": [
        "### Analysing the last layer\n",
        "\n",
        "Each neuron $i$ in the last layer of the network corresponds to one class. Its weights $W_i$ can be interpreted as the parameters of a hyperplane $H_i$ of $R^d$, where $d$ is the number of neurons of the previous layer.\n",
        "\n",
        "If two classes are correctly separated by the network, one can expect that the two corresponding hyperplanes are orthogonal. This can be evaluated by calculating the cosine between their normal vectors. This measure is called.... cosine similarity.\n",
        "\n",
        "Note that as $d$ increases, the expected value of the cosine of two random normal vectors of $R^d$ converges towards zero. Put otherwise: in high dimension, two random vectors tend to be orthogonal."
      ]
    },
    {
      "cell_type": "code",
      "execution_count": 93,
      "metadata": {
        "colab": {
          "base_uri": "https://localhost:8080/",
          "height": 453
        },
        "id": "ppayuQ6aHFbY",
        "outputId": "d2bf2755-982a-4735-e087-daef6ba0e209"
      },
      "outputs": [
        {
          "output_type": "stream",
          "name": "stdout",
          "text": [
            "Shape of the weights array: (128, 10)\n"
          ]
        },
        {
          "output_type": "display_data",
          "data": {
            "text/plain": [
              "<Figure size 640x480 with 2 Axes>"
            ],
            "image/png": "[encoded data removed]"
          },
          "metadata": {}
        }
      ],
      "source": [
        "weights, bias = model.get_layer(\"last\").get_weights()\n",
        "print(\"Shape of the weights array:\", weights.shape)\n",
        "norms = []\n",
        "for neuron in range(weights.shape[1]):\n",
        "    norms += [np.linalg.norm(weights[:,neuron])]\n",
        "weights /= norms\n",
        "\n",
        "cos = np.matmul(weights.transpose(), weights)\n",
        "\n",
        "plt.imshow(cos)\n",
        "plt.set_cmap('Spectral')\n",
        "plt.colorbar()\n",
        "plt.show()"
      ]
    },
    {
      "cell_type": "code",
      "execution_count": 94,
      "metadata": {
        "id": "Zx2JClHbz71Q",
        "outputId": "c518638a-bcfc-451a-f827-81d8d8c3eb65",
        "colab": {
          "base_uri": "https://localhost:8080/"
        }
      },
      "outputs": [
        {
          "output_type": "stream",
          "name": "stdout",
          "text": [
            "[[ 9.9999982e-01 -1.7882998e-01  2.9159609e-02 -6.3230529e-02\n",
            "  -1.5034637e-01 -2.0116040e-01  1.3518290e-01 -7.5070746e-04\n",
            "  -6.1525997e-02 -9.1123305e-02]\n",
            " [-1.7882998e-01  9.9999970e-01 -5.9227865e-02 -1.0956800e-01\n",
            "   5.2926634e-02 -1.2697814e-01 -5.8691785e-02  3.1349638e-03\n",
            "  -2.1113290e-01 -3.4282960e-02]\n",
            " [ 2.9159609e-02 -5.9227865e-02  1.0000000e+00 -9.1448538e-03\n",
            "  -3.8409822e-02 -1.8398711e-01 -7.3016278e-02  6.9345370e-02\n",
            "  -1.5450404e-02 -2.8184417e-01]\n",
            " [-6.3230529e-02 -1.0956800e-01 -9.1448538e-03  9.9999988e-01\n",
            "  -1.4227031e-01  7.6048844e-02 -2.2583003e-01 -2.7334024e-03\n",
            "  -2.0887244e-02  8.6139947e-02]\n",
            " [-1.5034637e-01  5.2926634e-02 -3.8409822e-02 -1.4227031e-01\n",
            "   1.0000000e+00 -1.0973815e-01 -6.8589173e-02 -1.0255096e-01\n",
            "  -4.2965736e-02  8.5069343e-02]\n",
            " [-2.0116040e-01 -1.2697814e-01 -1.8398711e-01  7.6048844e-02\n",
            "  -1.0973815e-01  1.0000001e+00  2.6306726e-02 -1.4375393e-01\n",
            "  -9.0400688e-02  1.1373321e-01]\n",
            " [ 1.3518290e-01 -5.8691785e-02 -7.3016278e-02 -2.2583003e-01\n",
            "  -6.8589173e-02  2.6306726e-02  1.0000002e+00 -1.3952464e-01\n",
            "  -3.2377172e-02 -2.0423859e-01]\n",
            " [-7.5070746e-04  3.1349638e-03  6.9345370e-02 -2.7334024e-03\n",
            "  -1.0255096e-01 -1.4375393e-01 -1.3952464e-01  9.9999994e-01\n",
            "  -2.1240695e-01 -1.1286907e-02]\n",
            " [-6.1525997e-02 -2.1113290e-01 -1.5450404e-02 -2.0887244e-02\n",
            "  -4.2965736e-02 -9.0400688e-02 -3.2377172e-02 -2.1240695e-01\n",
            "   1.0000001e+00  4.8689276e-02]\n",
            " [-9.1123305e-02 -3.4282960e-02 -2.8184417e-01  8.6139947e-02\n",
            "   8.5069343e-02  1.1373321e-01 -2.0423859e-01 -1.1286907e-02\n",
            "   4.8689276e-02  1.0000001e+00]]\n"
          ]
        }
      ],
      "source": [
        "print(cos)"
      ]
    },
    {
      "cell_type": "markdown",
      "metadata": {
        "id": "N4s25LwCgvMD"
      },
      "source": [
        "Which classes seem to be the most correlated? Would you have expected this?\n",
        "\n",
        "**Answer**: 6 and 0 are corrrelated probably because of the circle. Also 9 and 5 as they have a similar shape."
      ]
    },
    {
      "cell_type": "markdown",
      "metadata": {
        "id": "ZKRQ9qUtprcT"
      },
      "source": [
        "### Improving your network\n",
        "\n",
        "Try to improve the performance of your network: try different numbers of layers (do not use convolutional layers yet), as well as the number of neurons per layer.\n",
        "\n",
        "What is your best validation accuracy?\n",
        "\n",
        "**Answer**: ..."
      ]
    },
    {
      "cell_type": "code",
      "execution_count": 129,
      "metadata": {
        "id": "4-HyumVgz71Q",
        "outputId": "acc47c9a-3b57-45e1-ad63-6ac7240efba0",
        "colab": {
          "base_uri": "https://localhost:8080/"
        }
      },
      "outputs": [
        {
          "output_type": "stream",
          "name": "stdout",
          "text": [
            "Model: \"sequential_10\"\n",
            "_________________________________________________________________\n",
            " Layer (type)                Output Shape              Param #   \n",
            "=================================================================\n",
            " dense_29 (Dense)            (None, 500)               392500    \n",
            "                                                                 \n",
            " dense_30 (Dense)            (None, 500)               250500    \n",
            "                                                                 \n",
            " dense_31 (Dense)            (None, 2000)              1002000   \n",
            "                                                                 \n",
            " last (Dense)                (None, 10)                20010     \n",
            "                                                                 \n",
            "=================================================================\n",
            "Total params: 1665010 (6.35 MB)\n",
            "Trainable params: 1665010 (6.35 MB)\n",
            "Non-trainable params: 0 (0.00 Byte)\n",
            "_________________________________________________________________\n",
            "Model: \"sequential_10\"\n",
            "_________________________________________________________________\n",
            " Layer (type)                Output Shape              Param #   \n",
            "=================================================================\n",
            " dense_29 (Dense)            (None, 500)               392500    \n",
            "                                                                 \n",
            " dense_30 (Dense)            (None, 500)               250500    \n",
            "                                                                 \n",
            " dense_31 (Dense)            (None, 2000)              1002000   \n",
            "                                                                 \n",
            " last (Dense)                (None, 10)                20010     \n",
            "                                                                 \n",
            "=================================================================\n",
            "Total params: 1665010 (6.35 MB)\n",
            "Trainable params: 1665010 (6.35 MB)\n",
            "Non-trainable params: 0 (0.00 Byte)\n",
            "_________________________________________________________________\n"
          ]
        },
        {
          "output_type": "stream",
          "name": "stderr",
          "text": [
            "WARNING:absl:`lr` is deprecated in Keras optimizer, please use `learning_rate` or use the legacy optimizer, e.g.,tf.keras.optimizers.legacy.SGD.\n"
          ]
        },
        {
          "output_type": "stream",
          "name": "stdout",
          "text": [
            "Epoch 1/40\n",
            "844/844 [==============================] - 4s 4ms/step - loss: 1.1003 - accuracy: 0.7863 - val_loss: 0.5647 - val_accuracy: 0.8970\n",
            "Epoch 2/40\n",
            "844/844 [==============================] - 4s 5ms/step - loss: 0.5298 - accuracy: 0.9049 - val_loss: 0.4756 - val_accuracy: 0.9240\n",
            "Epoch 3/40\n",
            "844/844 [==============================] - 4s 4ms/step - loss: 0.4698 - accuracy: 0.9209 - val_loss: 0.4345 - val_accuracy: 0.9328\n",
            "Epoch 4/40\n",
            "844/844 [==============================] - 3s 4ms/step - loss: 0.4343 - accuracy: 0.9316 - val_loss: 0.4076 - val_accuracy: 0.9403\n",
            "Epoch 5/40\n",
            "844/844 [==============================] - 4s 4ms/step - loss: 0.4083 - accuracy: 0.9388 - val_loss: 0.3872 - val_accuracy: 0.9473\n",
            "Epoch 6/40\n",
            "844/844 [==============================] - 4s 5ms/step - loss: 0.3870 - accuracy: 0.9449 - val_loss: 0.3675 - val_accuracy: 0.9523\n",
            "Epoch 7/40\n",
            "844/844 [==============================] - 4s 4ms/step - loss: 0.3688 - accuracy: 0.9500 - val_loss: 0.3584 - val_accuracy: 0.9558\n",
            "Epoch 8/40\n",
            "844/844 [==============================] - 3s 4ms/step - loss: 0.3540 - accuracy: 0.9541 - val_loss: 0.3430 - val_accuracy: 0.9577\n",
            "Epoch 9/40\n",
            "844/844 [==============================] - 4s 5ms/step - loss: 0.3410 - accuracy: 0.9577 - val_loss: 0.3330 - val_accuracy: 0.9598\n",
            "Epoch 10/40\n",
            "844/844 [==============================] - 3s 4ms/step - loss: 0.3297 - accuracy: 0.9603 - val_loss: 0.3250 - val_accuracy: 0.9637\n",
            "Epoch 11/40\n",
            "844/844 [==============================] - 3s 4ms/step - loss: 0.3194 - accuracy: 0.9635 - val_loss: 0.3174 - val_accuracy: 0.9647\n",
            "Epoch 12/40\n",
            "844/844 [==============================] - 4s 5ms/step - loss: 0.3100 - accuracy: 0.9669 - val_loss: 0.3129 - val_accuracy: 0.9655\n",
            "Epoch 13/40\n",
            "844/844 [==============================] - 4s 5ms/step - loss: 0.3020 - accuracy: 0.9691 - val_loss: 0.3070 - val_accuracy: 0.9687\n",
            "Epoch 14/40\n",
            "844/844 [==============================] - 3s 4ms/step - loss: 0.2944 - accuracy: 0.9708 - val_loss: 0.3016 - val_accuracy: 0.9688\n",
            "Epoch 15/40\n",
            "844/844 [==============================] - 4s 5ms/step - loss: 0.2880 - accuracy: 0.9719 - val_loss: 0.2980 - val_accuracy: 0.9695\n",
            "Epoch 16/40\n",
            "844/844 [==============================] - 4s 5ms/step - loss: 0.2817 - accuracy: 0.9739 - val_loss: 0.2924 - val_accuracy: 0.9708\n",
            "Epoch 17/40\n",
            "844/844 [==============================] - 3s 4ms/step - loss: 0.2759 - accuracy: 0.9765 - val_loss: 0.2881 - val_accuracy: 0.9727\n",
            "Epoch 18/40\n",
            "844/844 [==============================] - 4s 4ms/step - loss: 0.2703 - accuracy: 0.9779 - val_loss: 0.2879 - val_accuracy: 0.9715\n",
            "Epoch 19/40\n",
            "844/844 [==============================] - 4s 5ms/step - loss: 0.2658 - accuracy: 0.9793 - val_loss: 0.2846 - val_accuracy: 0.9727\n",
            "Epoch 20/40\n",
            "844/844 [==============================] - 3s 4ms/step - loss: 0.2610 - accuracy: 0.9810 - val_loss: 0.2794 - val_accuracy: 0.9733\n",
            "Epoch 21/40\n",
            "844/844 [==============================] - 4s 4ms/step - loss: 0.2569 - accuracy: 0.9810 - val_loss: 0.2787 - val_accuracy: 0.9737\n",
            "Epoch 22/40\n",
            "844/844 [==============================] - 4s 4ms/step - loss: 0.2527 - accuracy: 0.9830 - val_loss: 0.2757 - val_accuracy: 0.9745\n",
            "Epoch 23/40\n",
            "844/844 [==============================] - 4s 5ms/step - loss: 0.2489 - accuracy: 0.9842 - val_loss: 0.2716 - val_accuracy: 0.9760\n",
            "Epoch 24/40\n",
            "844/844 [==============================] - 4s 4ms/step - loss: 0.2450 - accuracy: 0.9851 - val_loss: 0.2703 - val_accuracy: 0.9763\n",
            "Epoch 25/40\n",
            "844/844 [==============================] - 4s 4ms/step - loss: 0.2419 - accuracy: 0.9858 - val_loss: 0.2738 - val_accuracy: 0.9765\n",
            "Epoch 26/40\n",
            "844/844 [==============================] - 4s 5ms/step - loss: 0.2390 - accuracy: 0.9865 - val_loss: 0.2687 - val_accuracy: 0.9765\n",
            "Epoch 27/40\n",
            "844/844 [==============================] - 3s 4ms/step - loss: 0.2354 - accuracy: 0.9877 - val_loss: 0.2649 - val_accuracy: 0.9770\n",
            "Epoch 28/40\n",
            "844/844 [==============================] - 4s 4ms/step - loss: 0.2328 - accuracy: 0.9885 - val_loss: 0.2630 - val_accuracy: 0.9767\n",
            "Epoch 29/40\n",
            "844/844 [==============================] - 4s 5ms/step - loss: 0.2302 - accuracy: 0.9890 - val_loss: 0.2628 - val_accuracy: 0.9782\n",
            "Epoch 30/40\n",
            "844/844 [==============================] - 4s 4ms/step - loss: 0.2273 - accuracy: 0.9898 - val_loss: 0.2624 - val_accuracy: 0.9773\n",
            "Epoch 31/40\n",
            "844/844 [==============================] - 3s 4ms/step - loss: 0.2250 - accuracy: 0.9904 - val_loss: 0.2602 - val_accuracy: 0.9788\n",
            "Epoch 32/40\n",
            "844/844 [==============================] - 4s 4ms/step - loss: 0.2225 - accuracy: 0.9909 - val_loss: 0.2573 - val_accuracy: 0.9780\n",
            "Epoch 33/40\n",
            "844/844 [==============================] - 4s 5ms/step - loss: 0.2200 - accuracy: 0.9916 - val_loss: 0.2567 - val_accuracy: 0.9775\n",
            "Epoch 34/40\n",
            "844/844 [==============================] - 3s 4ms/step - loss: 0.2180 - accuracy: 0.9921 - val_loss: 0.2617 - val_accuracy: 0.9760\n",
            "Epoch 35/40\n",
            "844/844 [==============================] - 4s 4ms/step - loss: 0.2161 - accuracy: 0.9924 - val_loss: 0.2576 - val_accuracy: 0.9782\n",
            "Epoch 36/40\n",
            "844/844 [==============================] - 4s 5ms/step - loss: 0.2140 - accuracy: 0.9931 - val_loss: 0.2568 - val_accuracy: 0.9782\n",
            "Epoch 37/40\n",
            "844/844 [==============================] - 4s 4ms/step - loss: 0.2120 - accuracy: 0.9939 - val_loss: 0.2547 - val_accuracy: 0.9792\n",
            "Epoch 38/40\n",
            "844/844 [==============================] - 3s 4ms/step - loss: 0.2103 - accuracy: 0.9939 - val_loss: 0.2533 - val_accuracy: 0.9788\n",
            "Epoch 39/40\n",
            "844/844 [==============================] - 4s 5ms/step - loss: 0.2085 - accuracy: 0.9948 - val_loss: 0.2544 - val_accuracy: 0.9790\n",
            "Epoch 40/40\n",
            "844/844 [==============================] - 4s 4ms/step - loss: 0.2071 - accuracy: 0.9948 - val_loss: 0.2551 - val_accuracy: 0.9775\n"
          ]
        }
      ],
      "source": [
        "from tensorflow.keras.regularizers import l2\n",
        "weight_decay = 1e-4  # Choose the value of weight decay\n",
        "\n",
        "\n",
        "model = Sequential()\n",
        "\n",
        "### TO BE IMPLEMENTED ###\n",
        "model.add(Dense(500, activation='relu', input_shape=(x_train.shape[1],), kernel_regularizer=l2(weight_decay)))\n",
        "model.add(Dense(500, activation='relu', kernel_regularizer=l2(weight_decay)))\n",
        "model.add(Dense(2000, activation='relu', kernel_regularizer=l2(weight_decay)))\n",
        "model.add(Dense(num_classes, activation='softmax', name=\"last\", kernel_regularizer=l2(weight_decay)))\n",
        "\n",
        "\n",
        "model.summary()\n",
        "#########################\n",
        "\n",
        "model.summary()\n",
        "\n",
        "learning_rate = 0.01\n",
        "model.compile(loss='categorical_crossentropy',\n",
        "              optimizer=SGD(lr=learning_rate),\n",
        "              metrics=['accuracy'])\n",
        "\n",
        "batch_size = 64\n",
        "epochs = 40\n",
        "output = model.fit(x_train, y_train,\n",
        "                   batch_size=batch_size,\n",
        "                   epochs=epochs,\n",
        "                   validation_data=(x_val, y_val),\n",
        ")"
      ]
    },
    {
      "cell_type": "markdown",
      "metadata": {
        "id": "zWRkHtFkqkyj"
      },
      "source": [
        "### Testing\n",
        "\n",
        "Testing is the last stage of the learning process. Good practice recommends to do it only once, when you have completely finished with the optimization of the network parameters and hyperparameters."
      ]
    },
    {
      "cell_type": "code",
      "execution_count": 130,
      "metadata": {
        "colab": {
          "base_uri": "https://localhost:8080/"
        },
        "id": "LT0OkKrsqkyk",
        "outputId": "60779ae1-e8d4-48f1-fd8d-43b354d9fb55"
      },
      "outputs": [
        {
          "output_type": "stream",
          "name": "stdout",
          "text": [
            "Test loss: 0.253\n",
            "Test accuracy: 0.976\n"
          ]
        }
      ],
      "source": [
        "score = model.evaluate(x_test, y_test, verbose=0)\n",
        "print('Test loss: %.3f' % score[0])\n",
        "print('Test accuracy: %.3f' % score[1])"
      ]
    },
    {
      "cell_type": "code",
      "source": [
        "plt.plot(output.epoch, output.history['loss'], label='train')\n",
        "plt.plot(output.epoch, output.history['val_loss'], label='val')\n",
        "plt.title('Training and validation performance')\n",
        "plt.ylabel('loss')\n",
        "plt.xlabel('epoch')\n",
        "plt.legend()\n",
        "plt.grid()\n",
        "plt.show()"
      ],
      "metadata": {
        "id": "l4Sjz7aRK90U",
        "outputId": "f5478a90-0921-42d6-ef2d-83bff3593977",
        "colab": {
          "base_uri": "https://localhost:8080/",
          "height": 472
        }
      },
      "execution_count": 131,
      "outputs": [
        {
          "output_type": "display_data",
          "data": {
            "text/plain": [
              "<Figure size 640x480 with 1 Axes>"
            ],
            "image/png": "[encoded data removed]"
          },
          "metadata": {}
        }
      ]
    },
    {
      "cell_type": "markdown",
      "metadata": {
        "id": "Ak0ABv3hoskM"
      },
      "source": [
        "### Confusion matrix\n",
        "\n",
        "Each value $C_{i,j}$ of the confusion matrix $C$ gives the number of elements known to belong to class $i$ that have been classified in class $j$."
      ]
    },
    {
      "cell_type": "code",
      "execution_count": 115,
      "metadata": {
        "colab": {
          "base_uri": "https://localhost:8080/"
        },
        "id": "iVimIQ0WAHHv",
        "outputId": "6721681a-7d1f-4587-867b-be10388b7bea"
      },
      "outputs": [
        {
          "output_type": "stream",
          "name": "stdout",
          "text": [
            "313/313 [==============================] - 1s 3ms/step\n"
          ]
        },
        {
          "output_type": "execute_result",
          "data": {
            "text/plain": [
              "array([[ 969,    0,    1,    1,    0,    3,    2,    1,    2,    1],\n",
              "       [   0, 1119,    4,    0,    0,    2,    3,    1,    6,    0],\n",
              "       [   5,    2, 1005,    3,    3,    0,    2,    6,    6,    0],\n",
              "       [   1,    0,    4,  978,    0,   10,    0,    5,    8,    4],\n",
              "       [   1,    0,    6,    0,  952,    0,    3,    2,    1,   17],\n",
              "       [   3,    1,    1,    8,    2,  859,    9,    1,    5,    3],\n",
              "       [   5,    3,    2,    0,    4,    5,  936,    0,    3,    0],\n",
              "       [   1,    8,    7,    5,    1,    1,    0,  997,    1,    7],\n",
              "       [   4,    0,    3,    5,    4,    5,    7,    5,  938,    3],\n",
              "       [   4,    5,    1,    4,    9,    3,    1,    6,    6,  970]])"
            ]
          },
          "metadata": {},
          "execution_count": 115
        }
      ],
      "source": [
        "y_pred_proba = model.predict(x_test)\n",
        "y_pred = y_pred_proba.argmax(axis=-1)\n",
        "\n",
        "confusion_matrix(y_test_ori, y_pred)"
      ]
    },
    {
      "cell_type": "markdown",
      "metadata": {
        "id": "fzEIC4_0jHrG"
      },
      "source": [
        "Which pair of classes causes the most confusion? Is it coherent with the analysis of the cosine similarity between neurons of the last layer? Why?\n",
        "\n",
        "**Answer**: 5 and 9"
      ]
    },
    {
      "cell_type": "markdown",
      "metadata": {
        "id": "S18zSulYz71R"
      },
      "source": [
        "## Using Convolutional Layers\n",
        "\n",
        "In order experiment with convolutional networks and see their benefits, we can now use convolutional layers.\n",
        "\n",
        "<u>Formatting input: </u>: since we are going to use convolutional layers we need image data. We can map images back to their original domain in a 28 x 28 grid"
      ]
    },
    {
      "cell_type": "code",
      "execution_count": 116,
      "metadata": {
        "id": "T8Z9TNzwz71R"
      },
      "outputs": [],
      "source": [
        "x_train = x_train.reshape([-1,28,28,1])\n",
        "x_val = x_val.reshape([-1,28,28,1])\n",
        "x_test = x_test.reshape([-1,28,28,1])"
      ]
    },
    {
      "cell_type": "markdown",
      "metadata": {
        "id": "U_Pb1fQEz71R"
      },
      "source": [
        "Here we will implement our first convolutional neural network. Using keras `Sequential` API, build a CNN with the following sequential architecture:\n",
        "\n",
        "        - Conv2D: 16 filters and a kernel of size (5x5), ReLU activation\n",
        "        - MaxPooling2D\n",
        "        - Conv2D: 32 filters and a kernel of size (3x3), ReLU activation\n",
        "        - MaxPooling2D\n",
        "        - Conv2D: 32 filters and a kernel of size (3x3), ReLU activation\n",
        "        - MLP: 128 neurons, ReLU activation\n",
        "        - MLP: num_classes neurons\n",
        "        - Softmax activation\n",
        "\n",
        "Dont forget, we are now working with images but the MLP layers only takes 1D vector as input.\n",
        "\n",
        "Use `help(Conv2D)`, etc.. directly in a cell to access the layers API or directly check on [keras](https://keras.io/api/)"
      ]
    },
    {
      "cell_type": "code",
      "execution_count": null,
      "metadata": {
        "id": "pETghuGpz71R"
      },
      "outputs": [],
      "source": [
        "from tensorflow.keras.layers import Conv2D, MaxPool2D, Flatten\n",
        "\n",
        "model = Sequential()\n",
        "\n",
        "### TO BE IMPLEMENTED ###\n",
        "\n",
        "# model.add(Conv2D(...))\n",
        "# model.add(MaxPool2D())\n",
        "\n",
        "# ...\n",
        "# ...\n",
        "\n",
        "# model.add(Dense(num_classes, .....))\n",
        "\n",
        "#########################\n",
        "\n",
        "model.summary()"
      ]
    },
    {
      "cell_type": "code",
      "execution_count": null,
      "metadata": {
        "id": "6w8iR_Rpz71R"
      },
      "outputs": [],
      "source": [
        "learning_rate = 0.01\n",
        "model.compile(loss='categorical_crossentropy',\n",
        "              optimizer=SGD(learning_rate=learning_rate),\n",
        "              metrics=['accuracy'])"
      ]
    },
    {
      "cell_type": "code",
      "execution_count": null,
      "metadata": {
        "id": "2tZRwgX6z71R"
      },
      "outputs": [],
      "source": [
        "batch_size = 64\n",
        "epochs = 40\n",
        "output = model.fit(x_train, y_train,\n",
        "                   batch_size=batch_size,\n",
        "                   epochs=epochs,\n",
        "                   validation_data=(x_val, y_val),\n",
        ")"
      ]
    },
    {
      "cell_type": "code",
      "execution_count": null,
      "metadata": {
        "id": "MxShGnfEz71R"
      },
      "outputs": [],
      "source": [
        "plt.plot(output.epoch, output.history['loss'], label='train')\n",
        "plt.plot(output.epoch, output.history['val_loss'], label='val')\n",
        "plt.title('Training and validation performance')\n",
        "plt.ylabel('loss')\n",
        "plt.xlabel('epoch')\n",
        "plt.legend()\n",
        "plt.grid()\n",
        "plt.show()\n",
        "# plt.ylim(0.2, 0.8)"
      ]
    },
    {
      "cell_type": "markdown",
      "metadata": {
        "id": "0RMPNpjoz71R"
      },
      "source": [
        "Is it overfitting? What can you say about it when you compare with the denser architecture?\n",
        "What else can you do to reduce it?\n",
        "\n",
        "**Answer:** ..."
      ]
    },
    {
      "cell_type": "markdown",
      "metadata": {
        "id": "WqDmxfcAz71R"
      },
      "source": [
        "# Visualizing the Feature Maps\n",
        "\n",
        "We can try to understand what is happening in the network by looking at its feature maps. Since they are defined on a grid, we can vizualize them as images.\n",
        "\n",
        "Here we vizualize the feature maps of the first layer for some images."
      ]
    },
    {
      "cell_type": "code",
      "execution_count": null,
      "metadata": {
        "id": "H4-sgjeLz71R"
      },
      "outputs": [],
      "source": [
        "im = x_test[np.random.randint(0, x_test.shape[0]), :, :, :]\n",
        "im = im[np.newaxis, ...]\n",
        "fmaps = model.layers[0](im)\n",
        "\n",
        "plt.figure(figsize=(10,10))\n",
        "for i in range(16):\n",
        "    plt.subplot(4,4,i+1)\n",
        "    plt.imshow(fmaps[0,:,:,i])"
      ]
    },
    {
      "cell_type": "code",
      "execution_count": null,
      "metadata": {
        "id": "lTqS0zaZz71R"
      },
      "outputs": [],
      "source": [
        "im = x_test[np.random.randint(0, x_test.shape[0]), :, :, :]\n",
        "im = im[np.newaxis, ...]\n",
        "fmaps = model.layers[0](im)\n",
        "\n",
        "plt.figure(figsize=(10,10))\n",
        "for i in range(16):\n",
        "    plt.subplot(4,4,i+1)\n",
        "    plt.imshow(fmaps[0,:,:,i])"
      ]
    },
    {
      "cell_type": "markdown",
      "metadata": {
        "id": "CoWa72oVz71R"
      },
      "source": [
        "Can you identify if the convolutional layer detects meaningful features?(for example edges and corners)\n",
        "\n",
        "**Answer:** ..."
      ]
    },
    {
      "cell_type": "markdown",
      "metadata": {
        "id": "N5kSHTrkz71R"
      },
      "source": [
        "# Improving your network\n",
        "\n",
        "As before, try to improve your network by changing the number of layers of each type and the number of feature maps, neurons or kernel size."
      ]
    },
    {
      "cell_type": "code",
      "execution_count": null,
      "metadata": {
        "id": "WnCus94qz71S"
      },
      "outputs": [],
      "source": [
        "from tensorflow.keras.layers import Conv2D, MaxPool2D, Flatten\n",
        "\n",
        "model = Sequential()\n",
        "\n",
        "### TO BE IMPLEMENTED ###\n",
        "\n",
        "#########################\n",
        "\n",
        "model.summary()\n",
        "\n",
        "learning_rate = 0.01\n",
        "model.compile(loss='categorical_crossentropy',\n",
        "              optimizer=SGD(learning_rate=learning_rate),\n",
        "              metrics=['accuracy'])\n",
        "\n",
        "batch_size = 64\n",
        "epochs = 40\n",
        "output = model.fit(x_train, y_train,\n",
        "                   batch_size=batch_size,\n",
        "                   epochs=epochs,\n",
        "                   validation_data=(x_val, y_val),\n",
        ")"
      ]
    },
    {
      "cell_type": "markdown",
      "metadata": {
        "id": "B6y--w--z71S"
      },
      "source": [
        "\n",
        "What is your best validation accuracy?\n",
        "\n",
        "**Answer**: ..."
      ]
    },
    {
      "cell_type": "markdown",
      "metadata": {
        "id": "XUSUFlcWqkyq"
      },
      "source": [
        "# Optional: Experimenting with a more complex database\n",
        "\n",
        "We will now move to the fashion MNIST database, in order to experiment with a more complex database. The best test accuracy reported on this database is 0.967 (see https://github.com/zalandoresearch/fashion-mnist).\n",
        "\n"
      ]
    },
    {
      "cell_type": "code",
      "execution_count": null,
      "metadata": {
        "id": "GdSCSw2Kqkyr"
      },
      "outputs": [],
      "source": [
        "from tensorflow.keras.datasets import fashion_mnist as db\n",
        "\n",
        "# You can use the following dictionary to transform number labels into meaningful labels:\n",
        "fashion_dict = {\n",
        "    0: \"T-shirt/top\",\n",
        "    1: \"Trouser\",\n",
        "    2: \"Pullover\",\n",
        "    3: \"Dress\",\n",
        "    4: \"Coat\",\n",
        "    5: \"Sandal\",\n",
        "    6: \"Shirt\",\n",
        "    7: \"Sneaker\",\n",
        "    8: \"Bag\",\n",
        "    9: \"Ankle boot\"\n",
        "    }\n",
        "\n",
        "print(fashion_dict[2])"
      ]
    },
    {
      "cell_type": "code",
      "execution_count": null,
      "metadata": {
        "id": "7xvl5hRlz71S"
      },
      "outputs": [],
      "source": [
        "# Load and have a look at the data\n",
        "(x, y), (x_test_ori, y_test_ori) = db.load_data()\n",
        "\n",
        "# Visualize a single digit, with its class\n",
        "plt_r,plt_c = 4,4\n",
        "f, ax = plt.subplots(plt_r, plt_c, figsize=(16,16))\n",
        "for i in range(plt_r):\n",
        "    for j in range(plt_c):\n",
        "        index = np.random.randint(x.shape[0])\n",
        "        ax[i][j].imshow(x[index], cmap='gray')\n",
        "        ax[i][j].axis('off')\n",
        "        ax[i][j].set_title(\"Example: {}, Class: {}\".format(index, y[index]))\n",
        "plt.show()"
      ]
    },
    {
      "cell_type": "markdown",
      "metadata": {
        "id": "_PSbIvpm-91s"
      },
      "source": [
        "Build your own model below, train it on the fashion MNIST database and analyse its results. Dont forget to normalize and put the data into the correct format. Try to reach the highest validation accuracy. Finally, evaluate it using the test database.\n",
        "\n",
        "You must respect the following constraints:\n",
        "\n",
        "* you can use dense, convolutional, and pooling layers in your network;\n",
        "\n",
        "* do not change the optimizer, the loss or the metrics used during training.\n",
        "\n"
      ]
    },
    {
      "cell_type": "code",
      "execution_count": null,
      "metadata": {
        "id": "MMKAc-dd_e1g"
      },
      "outputs": [],
      "source": [
        "# Your code comes here. You can use several cells."
      ]
    },
    {
      "cell_type": "code",
      "execution_count": null,
      "metadata": {
        "id": "1L64YiHSz71S"
      },
      "outputs": [],
      "source": [
        "plt.plot(output.epoch, output.history['loss'], label='train')\n",
        "plt.plot(output.epoch, output.history['val_loss'], label='val')\n",
        "plt.title('Training and validation performance')\n",
        "plt.ylabel('loss')\n",
        "plt.xlabel('epoch')\n",
        "plt.legend()\n",
        "plt.grid\n",
        "plt.show()\n",
        "# plt.ylim(0.2, 0.8)"
      ]
    },
    {
      "cell_type": "markdown",
      "metadata": {
        "id": "X9WYN_xCjnD2"
      },
      "source": [
        "# Your results on the fashion MNIST database\n",
        "\n",
        "Which pairs of classes are the main cause of confusion?\n",
        "\n",
        "**Answer**: ...\n",
        "\n",
        "\n",
        "Did you use an architecture different than the one used for MNIST? If so, how?\n",
        "\n",
        "**Answer**: ...\n",
        "\n",
        "\n",
        "Is there overfitting?\n",
        "\n",
        "**Answer**: ...\n",
        "\n",
        "**Test accuracy**: ..."
      ]
    }
  ],
  "metadata": {
    "accelerator": "GPU",
    "colab": {
      "name": "mnist_mlp.ipynb",
      "provenance": []
    },
    "kernelspec": {
      "display_name": "Python 3.7.11 ('keras-gpu-py37')",
      "language": "python",
      "name": "python3"
    },
    "language_info": {
      "codemirror_mode": {
        "name": "ipython",
        "version": 3
      },
      "file_extension": ".py",
      "mimetype": "text/x-python",
      "name": "python",
      "nbconvert_exporter": "python",
      "pygments_lexer": "ipython3",
      "version": "3.7.11"
    },
    "vscode": {
      "interpreter": {
        "hash": "1cd8fa715f4e783bb81f945723edfe74554df81b9cdc3abfedca690bf5dda2c7"
      }
    }
  },
  "nbformat": 4,
  "nbformat_minor": 0
}